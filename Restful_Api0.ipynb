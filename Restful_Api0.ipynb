{
  "nbformat": 4,
  "nbformat_minor": 0,
  "metadata": {
    "colab": {
      "provenance": []
    },
    "kernelspec": {
      "name": "python3",
      "display_name": "Python 3"
    },
    "language_info": {
      "name": "python"
    }
  },
  "cells": [
    {
      "cell_type": "code",
      "execution_count": 1,
      "metadata": {
        "colab": {
          "base_uri": "https://localhost:8080/"
        },
        "id": "UNpD8VoXFlW5",
        "outputId": "25571275-3e6c-4a81-dedd-e85906eeff1f"
      },
      "outputs": [
        {
          "output_type": "stream",
          "name": "stdout",
          "text": [
            " * Serving Flask app '__main__'\n",
            " * Debug mode: on\n"
          ]
        },
        {
          "output_type": "stream",
          "name": "stderr",
          "text": [
            "INFO:werkzeug:\u001b[31m\u001b[1mWARNING: This is a development server. Do not use it in a production deployment. Use a production WSGI server instead.\u001b[0m\n",
            " * Running on http://127.0.0.1:5000\n",
            "INFO:werkzeug:\u001b[33mPress CTRL+C to quit\u001b[0m\n",
            "INFO:werkzeug: * Restarting with stat\n"
          ]
        }
      ],
      "source": [
        "1\n",
        "from flask import Flask\n",
        "\n",
        "app = Flask(__name__)\n",
        "\n",
        "@app.route('/')\n",
        "def home():\n",
        "    return \"Hello, Flask!\"\n",
        "\n",
        "if __name__ == '__main__':\n",
        "    app.run(debug=True)\n"
      ]
    },
    {
      "cell_type": "code",
      "source": [
        "2\n",
        "#html\n",
        "<link rel=\"stylesheet\" href=\"{{ url_for('static', filename='style.css') }}\">\n",
        "<img src=\"{{ url_for('static', filename='image.png') }}\">\n"
      ],
      "metadata": {
        "id": "1i4c5rzwGhh8"
      },
      "execution_count": null,
      "outputs": []
    },
    {
      "cell_type": "code",
      "source": [
        "3\n",
        "@app.route('/submit', methods=['GET', 'POST'])\n",
        "def submit():\n",
        "    if request.method == 'POST':\n",
        "        return \"Data submitted\"\n",
        "    return \"Submit form\"\n"
      ],
      "metadata": {
        "id": "Vg-wpy-KG5Gx"
      },
      "execution_count": null,
      "outputs": []
    },
    {
      "cell_type": "code",
      "source": [
        "4\n",
        "from flask import render_template\n",
        "\n",
        "@app.route('/')\n",
        "def home():\n",
        "    return render_template('index.html')\n",
        "#✅ Put index.html in a templates/ folder."
      ],
      "metadata": {
        "id": "6mYn0WCaG6wH"
      },
      "execution_count": null,
      "outputs": []
    },
    {
      "cell_type": "code",
      "source": [
        "5\n",
        "@app.route('/profile/<username>')\n",
        "def profile(username):\n",
        "    return f\"Profile: {username}\"\n",
        "\n",
        "# Somewhere in a template or function\n",
        "url = url_for('profile', username='john')\n"
      ],
      "metadata": {
        "id": "XT9KI6nGHFPx"
      },
      "execution_count": null,
      "outputs": []
    },
    {
      "cell_type": "code",
      "source": [
        "6\n",
        "from flask import request\n",
        "\n",
        "@app.route('/form', methods=['GET', 'POST'])\n",
        "def form():\n",
        "    if request.method == 'POST':\n",
        "        name = request.form['name']\n",
        "        return f\"Hello, {name}\"\n",
        "    return render_template('form.html')\n"
      ],
      "metadata": {
        "id": "CLVCCwhHHRB9"
      },
      "execution_count": null,
      "outputs": []
    },
    {
      "cell_type": "code",
      "source": [
        "7\n",
        "name = request.form.get('name')\n",
        "if not name:\n",
        "    return \"Name is required\", 400\n"
      ],
      "metadata": {
        "id": "zeutaDsJHSN0"
      },
      "execution_count": null,
      "outputs": []
    },
    {
      "cell_type": "code",
      "source": [
        "8\n",
        "from flask import session\n",
        "\n",
        "app.secret_key = 'your_secret_key'\n",
        "\n",
        "@app.route('/login')\n",
        "def login():\n",
        "    session['user'] = 'john'\n",
        "    return \"Logged in\"\n",
        "\n",
        "@app.route('/logout')\n",
        "def logout():\n",
        "    session.pop('user', None)\n",
        "    return \"Logged out\"\n"
      ],
      "metadata": {
        "id": "xfVoHGuCHbbE"
      },
      "execution_count": null,
      "outputs": []
    },
    {
      "cell_type": "code",
      "source": [
        "9\n",
        "from flask import redirect, url_for\n",
        "\n",
        "@app.route('/go-home')\n",
        "def go_home():\n",
        "    return redirect(url_for('home'))\n"
      ],
      "metadata": {
        "id": "FWFPveWOHddx"
      },
      "execution_count": null,
      "outputs": []
    },
    {
      "cell_type": "code",
      "source": [
        "10\n",
        "@app.errorhandler(404)\n",
        "def page_not_found(e):\n",
        "    return render_template('404.html'), 404\n"
      ],
      "metadata": {
        "id": "6WL11TwoHh_t"
      },
      "execution_count": null,
      "outputs": []
    },
    {
      "cell_type": "code",
      "source": [
        "11\n",
        "from flask import Flask\n",
        "from myapp.routes import main\n",
        "\n",
        "app = Flask(__name__)\n",
        "app.register_blueprint(main)\n",
        "\n",
        "if __name__ == '__main__':\n",
        "    app.run(debug=True)\n"
      ],
      "metadata": {
        "id": "3_XCTql9HmgY"
      },
      "execution_count": null,
      "outputs": []
    },
    {
      "cell_type": "code",
      "source": [
        "12\n",
        "@app.template_filter('reverse')\n",
        "def reverse_filter(s):\n",
        "    return s[::-1]\n"
      ],
      "metadata": {
        "id": "LIoC8aLxHpab"
      },
      "execution_count": null,
      "outputs": []
    },
    {
      "cell_type": "code",
      "source": [
        "13\n",
        "from flask import redirect, url_for\n",
        "\n",
        "@app.route('/redirect-me')\n",
        "def redirect_me():\n",
        "    return redirect(url_for('hello', name='John'))\n",
        "\n",
        "@app.route('/hello')\n",
        "def hello():\n",
        "    name = request.args.get('name')\n",
        "    return f\"Hello, {name}\"\n"
      ],
      "metadata": {
        "id": "oAwBgs4PHuH7"
      },
      "execution_count": null,
      "outputs": []
    },
    {
      "cell_type": "code",
      "source": [
        "14\n",
        "from flask import jsonify\n",
        "\n",
        "@app.route('/api/data')\n",
        "def get_data():\n",
        "    return jsonify({'name': 'John', 'age': 30})\n"
      ],
      "metadata": {
        "id": "aqryBO8iHyTc"
      },
      "execution_count": null,
      "outputs": []
    },
    {
      "cell_type": "code",
      "source": [
        "15\n",
        "@app.route('/user/<username>')\n",
        "def user_profile(username):\n",
        "    return f\"Hello, {username}\"\n"
      ],
      "metadata": {
        "id": "Umedov2pH1Ur"
      },
      "execution_count": null,
      "outputs": []
    }
  ]
}